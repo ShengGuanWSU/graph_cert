{
 "cells": [
  {
   "cell_type": "code",
   "execution_count": 1,
   "metadata": {},
   "outputs": [],
   "source": [
    "import numpy as np\n",
    "from graph_cert.certify import *\n",
    "from graph_cert.utils import *\n",
    "from graph_cert.models import PiPPNP\n",
    "from graph_cert.training import *\n",
    "from functools import partial\n",
    "\n",
    "import seaborn as sns\n",
    "import tqdm\n",
    "import matplotlib.pyplot as plt"
   ]
  },
  {
   "cell_type": "markdown",
   "metadata": {},
   "source": [
    "### Load and preprocess the data"
   ]
  },
  {
   "cell_type": "code",
   "execution_count": 2,
   "metadata": {},
   "outputs": [],
   "source": [
    "file_name = 'data/citeseer.npz'\n",
    "graph = load_dataset(file_name=file_name)\n",
    "\n",
    "adj_matrix, attr_matrix, labels = standardize(adj_matrix=graph['adj_matrix'],\n",
    "                                              attr_matrix=graph['attr_matrix'],\n",
    "                                              labels=graph['labels'])\n",
    "\n",
    "idx_train, idx_val, idx_test = split(labels, n_per_class=20, seed=0)"
   ]
  },
  {
   "cell_type": "markdown",
   "metadata": {},
   "source": [
    "### Setup the training function with default hyper-params\n"
   ]
  },
  {
   "cell_type": "code",
   "execution_count": 3,
   "metadata": {},
   "outputs": [],
   "source": [
    "device = 'cuda'\n",
    "alpha = 0.85\n",
    "n, d = attr_matrix.shape\n",
    "nc = labels.max()+1\n",
    "\n",
    "attr = torch.FloatTensor(attr_matrix.toarray()).to(device)\n",
    "ppr = torch.FloatTensor(propagation_matrix(adj_matrix, alpha=alpha)).to(device)\n",
    "labels = torch.LongTensor(labels).to(device)"
   ]
  },
  {
   "cell_type": "code",
   "execution_count": 4,
   "metadata": {},
   "outputs": [],
   "source": [
    "train_func = partial(train, attr=attr, ppr=ppr, labels=labels,\n",
    "                     idx_train=idx_train, idx_val=idx_val,\n",
    "                     lr=1e-2, weight_decay= 1e-4,\n",
    "                     patience=10, max_epochs=10_000, display_step=5,\n",
    "                    )"
   ]
  },
  {
   "cell_type": "markdown",
   "metadata": {},
   "source": [
    "### Train $\\pi$-PPNP using standard cross-entropy loss"
   ]
  },
  {
   "cell_type": "code",
   "execution_count": 5,
   "metadata": {
    "scrolled": true
   },
   "outputs": [
    {
     "name": "stdout",
     "output_type": "stream",
     "text": [
      "Epoch    0: loss_train: 1.79467, loss_val: 1.79423  acc_train: 0.16667, acc_val: 0.16667 p_robust -1.00000\n",
      "Epoch    5: loss_train: 0.55747, loss_val: 1.00037  acc_train: 0.89167, acc_val: 0.69167 p_robust -1.00000\n",
      "Epoch   10: loss_train: 0.12188, loss_val: 1.08551  acc_train: 0.98333, acc_val: 0.67500 p_robust -1.00000\n",
      "Epoch   15: loss_train: 0.03441, loss_val: 1.49981  acc_train: 1.00000, acc_val: 0.68333 p_robust -1.00000\n",
      "Epoch   20: loss_train: 0.01191, loss_val: 1.85369  acc_train: 1.00000, acc_val: 0.65000 p_robust -1.00000\n"
     ]
    }
   ],
   "source": [
    "ppnp_ce = PiPPNP(n_features=d, n_classes=nc, n_hidden=[64]).to(device)\n",
    "_ = train_func(model=ppnp_ce, adver_config=None)"
   ]
  },
  {
   "cell_type": "markdown",
   "metadata": {},
   "source": [
    "### Configure the paramters for adversarial training"
   ]
  },
  {
   "cell_type": "code",
   "execution_count": 6,
   "metadata": {},
   "outputs": [],
   "source": [
    "# set the local budget proportional to the degree\n",
    "deg = adj_matrix.sum(1).A1.astype(np.int32)\n",
    "local_strength = 9\n",
    "local_budget = np.maximum(deg - 11 + local_strength, 0)\n",
    "\n",
    "fragile = get_fragile(adj=adj_matrix, threat_model='rem')\n",
    "\n",
    "adver_config = {\n",
    "    'alpha': alpha,\n",
    "    'adj_matrix': adj_matrix,\n",
    "    'fragile': fragile,\n",
    "    'local_budget': local_budget,\n",
    "    'margin': 0\n",
    "}"
   ]
  },
  {
   "cell_type": "markdown",
   "metadata": {},
   "source": [
    "### Train $\\pi$-PPNP using robust cross-entropy loss"
   ]
  },
  {
   "cell_type": "code",
   "execution_count": 7,
   "metadata": {},
   "outputs": [
    {
     "name": "stdout",
     "output_type": "stream",
     "text": [
      "Epoch    0: loss_train: 1.79794, loss_val: 1.79710  acc_train: 0.16667, acc_val: 0.16667 p_robust 0.16667\n",
      "Epoch    5: loss_train: 0.71631, loss_val: 1.17327  acc_train: 0.88333, acc_val: 0.67500 p_robust 0.74583\n",
      "Epoch   10: loss_train: 0.22392, loss_val: 1.39474  acc_train: 0.96667, acc_val: 0.66667 p_robust 0.76667\n",
      "Epoch   15: loss_train: 0.09586, loss_val: 2.04099  acc_train: 0.98333, acc_val: 0.61667 p_robust 0.76667\n"
     ]
    }
   ],
   "source": [
    "adver_config['loss_type'] = 'rce'\n",
    "ppnp_rce = PiPPNP(n_features=d, n_classes=nc, n_hidden=[64]).to(device)\n",
    "_ = train_func(model=ppnp_rce, adver_config=adver_config)"
   ]
  },
  {
   "cell_type": "markdown",
   "metadata": {},
   "source": [
    "### Train $\\pi$-PPNP using robust hinge loss"
   ]
  },
  {
   "cell_type": "code",
   "execution_count": 8,
   "metadata": {
    "scrolled": true
   },
   "outputs": [
    {
     "name": "stdout",
     "output_type": "stream",
     "text": [
      "Epoch    0: loss_train: 2.08335, loss_val: 2.08411  acc_train: 0.16667, acc_val: 0.16667 p_robust 0.16667\n",
      "Epoch    5: loss_train: 1.37598, loss_val: 1.71822  acc_train: 0.86667, acc_val: 0.63333 p_robust 0.70000\n",
      "Epoch   10: loss_train: 0.73256, loss_val: 1.67382  acc_train: 0.92500, acc_val: 0.66667 p_robust 0.70833\n",
      "Epoch   15: loss_train: 0.30869, loss_val: 2.15397  acc_train: 0.97500, acc_val: 0.65000 p_robust 0.76667\n",
      "Epoch   20: loss_train: 0.13383, loss_val: 2.85887  acc_train: 0.99167, acc_val: 0.64167 p_robust 0.76250\n"
     ]
    }
   ],
   "source": [
    "adver_config['loss_type'] = 'cem'\n",
    "ppnp_cem = PiPPNP(n_features=d, n_classes=nc, n_hidden=[64]).to(device)\n",
    "_ = train_func(model=ppnp_cem, adver_config=adver_config)"
   ]
  },
  {
   "cell_type": "markdown",
   "metadata": {},
   "source": [
    "### Compute the ratios of certified test nodes"
   ]
  },
  {
   "cell_type": "code",
   "execution_count": 9,
   "metadata": {},
   "outputs": [
    {
     "data": {
      "application/vnd.jupyter.widget-view+json": {
       "model_id": "20bcf4429fa3426086a9dcca6c0e8bd3",
       "version_major": 2,
       "version_minor": 0
      },
      "text/plain": [
       "HBox(children=(IntProgress(value=0, max=3), HTML(value='')))"
      ]
     },
     "metadata": {},
     "output_type": "display_data"
    },
    {
     "name": "stdout",
     "output_type": "stream",
     "text": [
      "Accuracy: 0.67968\n"
     ]
    },
    {
     "data": {
      "application/vnd.jupyter.widget-view+json": {
       "model_id": "",
       "version_major": 2,
       "version_minor": 0
      },
      "text/plain": [
       "HBox(children=(IntProgress(value=0, max=5), HTML(value='')))"
      ]
     },
     "metadata": {},
     "output_type": "display_data"
    },
    {
     "name": "stdout",
     "output_type": "stream",
     "text": [
      "Accuracy: 0.68342\n"
     ]
    },
    {
     "data": {
      "application/vnd.jupyter.widget-view+json": {
       "model_id": "",
       "version_major": 2,
       "version_minor": 0
      },
      "text/plain": [
       "HBox(children=(IntProgress(value=0, max=5), HTML(value='')))"
      ]
     },
     "metadata": {},
     "output_type": "display_data"
    },
    {
     "name": "stdout",
     "output_type": "stream",
     "text": [
      "Accuracy: 0.68503\n"
     ]
    },
    {
     "data": {
      "application/vnd.jupyter.widget-view+json": {
       "model_id": "",
       "version_major": 2,
       "version_minor": 0
      },
      "text/plain": [
       "HBox(children=(IntProgress(value=0, max=5), HTML(value='')))"
      ]
     },
     "metadata": {},
     "output_type": "display_data"
    },
    {
     "name": "stdout",
     "output_type": "stream",
     "text": [
      "\n"
     ]
    }
   ],
   "source": [
    "local_strengths = [1, 3, 5, 7, 9]\n",
    "ratios_certifed = np.zeros((3, len(local_strengths)))\n",
    "\n",
    "for it, model in enumerate(tqdm.tqdm_notebook([ppnp_ce, ppnp_cem, ppnp_rce])):\n",
    "    \n",
    "    logits, weighted_logits = model(attr, ppr)\n",
    "    acc_test = accuracy(labels, weighted_logits, idx_test)\n",
    "    print(f'Accuracy: {acc_test:.5f}')\n",
    "    \n",
    "    logits = logits.detach().cpu().numpy()\n",
    "    predicted = weighted_logits.argmax(1).cpu().numpy()\n",
    "\n",
    "    for jt, local_strength in enumerate(tqdm.tqdm_notebook(local_strengths, leave=False)):\n",
    "        # set the local budget proportional to the node degree\n",
    "        local_budget = np.maximum(deg - 11 + local_strength, 0)\n",
    "\n",
    "        # precomputed the K x K perturbed graphs\n",
    "        k_squared_pageranks = k_squared_parallel(\n",
    "        adj=adj_matrix, alpha=alpha, fragile=fragile, local_budget=local_budget, logits=logits, nodes=idx_test)\n",
    "\n",
    "        # compute the exact worst-case margins for all test nodes\n",
    "        worst_margins = worst_margins_given_k_squared(\n",
    "            k_squared_pageranks=k_squared_pageranks, labels=predicted[idx_test], logits=logits)\n",
    "\n",
    "        ratios_certifed[it, jt] = (worst_margins>0).mean()"
   ]
  },
  {
   "cell_type": "markdown",
   "metadata": {},
   "source": [
    "### Compare different losses"
   ]
  },
  {
   "cell_type": "code",
   "execution_count": 10,
   "metadata": {},
   "outputs": [
    {
     "data": {
      "image/png": "[encoded data removed]",
      "text/plain": [
       "<Figure size 432x288 with 1 Axes>"
      ]
     },
     "metadata": {
      "needs_background": "light"
     },
     "output_type": "display_data"
    }
   ],
   "source": [
    "sns.set_context('talk')\n",
    "plt.plot(local_strengths, ratios_certifed[0], label='ce')\n",
    "plt.plot(local_strengths, ratios_certifed[1], label='cem')\n",
    "plt.plot(local_strengths, ratios_certifed[2], label='rce')\n",
    "plt.xlabel('local attack strength')\n",
    "plt.ylabel('% certified robust')\n",
    "plt.legend(title='Loss')\n",
    "plt.show()"
   ]
  }
 ],
 "metadata": {
  "kernelspec": {
   "display_name": "Python 3",
   "language": "python",
   "name": "python3"
  },
  "language_info": {
   "codemirror_mode": {
    "name": "ipython",
    "version": 3
   },
   "file_extension": ".py",
   "mimetype": "text/x-python",
   "name": "python",
   "nbconvert_exporter": "python",
   "pygments_lexer": "ipython3",
   "version": "3.7.3"
  },
  "pycharm": {
   "stem_cell": {
    "cell_type": "raw",
    "metadata": {
     "collapsed": false
    },
    "source": []
   }
  }
 },
 "nbformat": 4,
 "nbformat_minor": 2
}
