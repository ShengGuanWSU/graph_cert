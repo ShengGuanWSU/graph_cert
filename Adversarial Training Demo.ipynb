{
 "cells": [
  {
   "cell_type": "code",
   "execution_count": 1,
   "metadata": {},
   "outputs": [],
   "source": [
    "import numpy as np\n",
    "from graph_cert.certify import *\n",
    "from graph_cert.utils import *\n",
    "from graph_cert.models import PiPPNP\n",
    "from graph_cert.training import *\n",
    "from functools import partial\n",
    "\n",
    "import seaborn as sns\n",
    "import tqdm\n",
    "import matplotlib.pyplot as plt"
   ]
  },
  {
   "cell_type": "markdown",
   "metadata": {},
   "source": [
    "### Load and preprocess the data"
   ]
  },
  {
   "cell_type": "code",
   "execution_count": 2,
   "metadata": {},
   "outputs": [],
   "source": [
    "file_name = 'data/citeseer.npz'\n",
    "graph = load_dataset(file_name=file_name)\n",
    "\n",
    "adj_matrix, attr_matrix, labels = standardize(adj_matrix=graph['adj_matrix'],\n",
    "                                              attr_matrix=graph['attr_matrix'],\n",
    "                                              labels=graph['labels'])\n",
    "\n",
    "idx_train, idx_val, idx_test = split(labels, n_per_class=20, seed=0)"
   ]
  },
  {
   "cell_type": "markdown",
   "metadata": {},
   "source": [
    "### Setup the training function with default hyper-params\n"
   ]
  },
  {
   "cell_type": "code",
   "execution_count": 3,
   "metadata": {},
   "outputs": [],
   "source": [
    "device = 'cuda'\n",
    "alpha = 0.85\n",
    "n, d = attr_matrix.shape\n",
    "nc = labels.max()+1\n",
    "\n",
    "attr = torch.FloatTensor(attr_matrix.toarray()).to(device)\n",
    "ppr = torch.FloatTensor(propagation_matrix(adj_matrix, alpha=alpha)).to(device)\n",
    "labels = torch.LongTensor(labels).to(device)"
   ]
  },
  {
   "cell_type": "code",
   "execution_count": 4,
   "metadata": {},
   "outputs": [],
   "source": [
    "train_func = partial(train, attr=attr, ppr=ppr, labels=labels,\n",
    "                     idx_train=idx_train, idx_val=idx_val,\n",
    "                     lr=1e-2, weight_decay= 1e-4,\n",
    "                     patience=50, max_epochs=3_000, display_step=5,\n",
    "                    )"
   ]
  },
  {
   "cell_type": "markdown",
   "metadata": {},
   "source": [
    "### Train $\\pi$-PPNP using standard cross-entropy loss"
   ]
  },
  {
   "cell_type": "code",
   "execution_count": 5,
   "metadata": {
    "scrolled": true
   },
   "outputs": [
    {
     "name": "stdout",
     "output_type": "stream",
     "text": [
      "Epoch    0: loss_train: 1.79571, loss_val: 1.79499  acc_train: 0.15000, acc_val: 0.17500 p_robust -1.00000\n",
      "Epoch    5: loss_train: 0.56064, loss_val: 1.02474  acc_train: 0.86667, acc_val: 0.65833 p_robust -1.00000\n",
      "Epoch   10: loss_train: 0.12894, loss_val: 1.08670  acc_train: 0.96667, acc_val: 0.66667 p_robust -1.00000\n",
      "Epoch   15: loss_train: 0.03541, loss_val: 1.50060  acc_train: 1.00000, acc_val: 0.65833 p_robust -1.00000\n",
      "Epoch   20: loss_train: 0.01410, loss_val: 1.86582  acc_train: 1.00000, acc_val: 0.66667 p_robust -1.00000\n",
      "Epoch   25: loss_train: 0.00669, loss_val: 2.02315  acc_train: 1.00000, acc_val: 0.65000 p_robust -1.00000\n",
      "Epoch   30: loss_train: 0.00396, loss_val: 2.06998  acc_train: 1.00000, acc_val: 0.63333 p_robust -1.00000\n",
      "Epoch   35: loss_train: 0.00285, loss_val: 2.04542  acc_train: 1.00000, acc_val: 0.64167 p_robust -1.00000\n",
      "Epoch   40: loss_train: 0.00233, loss_val: 1.96238  acc_train: 1.00000, acc_val: 0.65000 p_robust -1.00000\n",
      "Epoch   45: loss_train: 0.00216, loss_val: 1.86538  acc_train: 1.00000, acc_val: 0.65833 p_robust -1.00000\n",
      "Epoch   50: loss_train: 0.00222, loss_val: 1.76542  acc_train: 1.00000, acc_val: 0.65833 p_robust -1.00000\n",
      "Epoch   55: loss_train: 0.00245, loss_val: 1.66016  acc_train: 1.00000, acc_val: 0.66667 p_robust -1.00000\n",
      "Epoch   60: loss_train: 0.00282, loss_val: 1.56452  acc_train: 1.00000, acc_val: 0.68333 p_robust -1.00000\n"
     ]
    }
   ],
   "source": [
    "ppnp_ce = PiPPNP(n_features=d, n_classes=nc, n_hidden=[64]).to(device)\n",
    "_ = train_func(model=ppnp_ce, adver_config=None)"
   ]
  },
  {
   "cell_type": "markdown",
   "metadata": {},
   "source": [
    "### Configure the paramters for adversarial training"
   ]
  },
  {
   "cell_type": "code",
   "execution_count": 6,
   "metadata": {},
   "outputs": [],
   "source": [
    "# set the local budget proportional to the degree\n",
    "deg = adj_matrix.sum(1).A1.astype(np.int32)\n",
    "local_strength = 9\n",
    "local_budget = np.maximum(deg - 11 + local_strength, 0)\n",
    "\n",
    "fragile = get_fragile(adj=adj_matrix, threat_model='rem')\n",
    "\n",
    "adver_config = {\n",
    "    'alpha': alpha,\n",
    "    'adj_matrix': adj_matrix,\n",
    "    'fragile': fragile,\n",
    "    'local_budget': local_budget,\n",
    "    'margin': 1\n",
    "}"
   ]
  },
  {
   "cell_type": "markdown",
   "metadata": {},
   "source": [
    "### Train $\\pi$-PPNP using robust cross-entropy loss"
   ]
  },
  {
   "cell_type": "code",
   "execution_count": 7,
   "metadata": {},
   "outputs": [
    {
     "name": "stdout",
     "output_type": "stream",
     "text": [
      "Epoch    0: loss_train: 1.79752, loss_val: 1.79893  acc_train: 0.16667, acc_val: 0.16667 p_robust 0.16667\n",
      "Epoch    5: loss_train: 0.73579, loss_val: 1.23677  acc_train: 0.88333, acc_val: 0.65833 p_robust 0.72500\n",
      "Epoch   10: loss_train: 0.24057, loss_val: 1.43396  acc_train: 0.95833, acc_val: 0.65833 p_robust 0.75000\n",
      "Epoch   15: loss_train: 0.10475, loss_val: 1.98628  acc_train: 0.99167, acc_val: 0.62500 p_robust 0.77500\n",
      "Epoch   20: loss_train: 0.05517, loss_val: 2.47296  acc_train: 1.00000, acc_val: 0.63333 p_robust 0.75833\n",
      "Epoch   25: loss_train: 0.03283, loss_val: 2.71785  acc_train: 1.00000, acc_val: 0.64167 p_robust 0.77083\n",
      "Epoch   30: loss_train: 0.02119, loss_val: 2.84580  acc_train: 1.00000, acc_val: 0.62500 p_robust 0.76250\n",
      "Epoch   35: loss_train: 0.01520, loss_val: 2.87234  acc_train: 1.00000, acc_val: 0.61667 p_robust 0.75833\n",
      "Epoch   40: loss_train: 0.01200, loss_val: 2.81991  acc_train: 1.00000, acc_val: 0.60833 p_robust 0.76250\n",
      "Epoch   45: loss_train: 0.01005, loss_val: 2.70644  acc_train: 1.00000, acc_val: 0.61667 p_robust 0.77083\n",
      "Epoch   50: loss_train: 0.00904, loss_val: 2.58034  acc_train: 1.00000, acc_val: 0.64167 p_robust 0.77917\n",
      "Epoch   55: loss_train: 0.00856, loss_val: 2.46319  acc_train: 1.00000, acc_val: 0.63333 p_robust 0.78333\n"
     ]
    }
   ],
   "source": [
    "adver_config['loss_type'] = 'rce'\n",
    "ppnp_rce = PiPPNP(n_features=d, n_classes=nc, n_hidden=[64]).to(device)\n",
    "_ = train_func(model=ppnp_rce, adver_config=adver_config)"
   ]
  },
  {
   "cell_type": "markdown",
   "metadata": {},
   "source": [
    "### Train $\\pi$-PPNP using robust hinge loss"
   ]
  },
  {
   "cell_type": "code",
   "execution_count": 8,
   "metadata": {
    "scrolled": true
   },
   "outputs": [
    {
     "name": "stdout",
     "output_type": "stream",
     "text": [
      "Epoch    0: loss_train: 6.82987, loss_val: 6.82964  acc_train: 0.16667, acc_val: 0.16667 p_robust 0.16667\n",
      "Epoch    5: loss_train: 1.19163, loss_val: 2.91158  acc_train: 0.89167, acc_val: 0.66667 p_robust 0.75000\n",
      "Epoch   10: loss_train: 0.40587, loss_val: 3.34032  acc_train: 0.95000, acc_val: 0.64167 p_robust 0.74583\n",
      "Epoch   15: loss_train: 0.18605, loss_val: 4.13616  acc_train: 1.00000, acc_val: 0.62500 p_robust 0.75417\n",
      "Epoch   20: loss_train: 0.10668, loss_val: 4.77957  acc_train: 1.00000, acc_val: 0.62500 p_robust 0.75833\n",
      "Epoch   25: loss_train: 0.06860, loss_val: 5.16008  acc_train: 1.00000, acc_val: 0.62500 p_robust 0.75000\n",
      "Epoch   30: loss_train: 0.04587, loss_val: 5.57329  acc_train: 1.00000, acc_val: 0.61667 p_robust 0.76667\n",
      "Epoch   35: loss_train: 0.03348, loss_val: 5.65594  acc_train: 1.00000, acc_val: 0.60833 p_robust 0.74583\n",
      "Epoch   40: loss_train: 0.01996, loss_val: 5.70675  acc_train: 1.00000, acc_val: 0.60833 p_robust 0.75417\n",
      "Epoch   45: loss_train: 0.01500, loss_val: 5.75718  acc_train: 1.00000, acc_val: 0.63333 p_robust 0.75833\n",
      "Epoch   50: loss_train: 0.01060, loss_val: 5.73724  acc_train: 1.00000, acc_val: 0.63333 p_robust 0.75833\n",
      "Epoch   55: loss_train: 0.00827, loss_val: 5.70730  acc_train: 1.00000, acc_val: 0.63333 p_robust 0.76250\n"
     ]
    }
   ],
   "source": [
    "adver_config['loss_type'] = 'cem'\n",
    "ppnp_cem = PiPPNP(n_features=d, n_classes=nc, n_hidden=[64]).to(device)\n",
    "_ = train_func(model=ppnp_cem, adver_config=adver_config)"
   ]
  },
  {
   "cell_type": "markdown",
   "metadata": {},
   "source": [
    "### Compute the ratios of certified test nodes"
   ]
  },
  {
   "cell_type": "code",
   "execution_count": 9,
   "metadata": {},
   "outputs": [
    {
     "data": {
      "application/vnd.jupyter.widget-view+json": {
       "model_id": "451f41c72bd9483abf4073e8233fa50b",
       "version_major": 2,
       "version_minor": 0
      },
      "text/plain": [
       "HBox(children=(IntProgress(value=0, max=3), HTML(value='')))"
      ]
     },
     "metadata": {},
     "output_type": "display_data"
    },
    {
     "name": "stdout",
     "output_type": "stream",
     "text": [
      "Accuracy: 0.69198\n"
     ]
    },
    {
     "data": {
      "application/vnd.jupyter.widget-view+json": {
       "model_id": "",
       "version_major": 2,
       "version_minor": 0
      },
      "text/plain": [
       "HBox(children=(IntProgress(value=0, max=5), HTML(value='')))"
      ]
     },
     "metadata": {},
     "output_type": "display_data"
    },
    {
     "name": "stdout",
     "output_type": "stream",
     "text": [
      "Accuracy: 0.68717\n"
     ]
    },
    {
     "data": {
      "application/vnd.jupyter.widget-view+json": {
       "model_id": "",
       "version_major": 2,
       "version_minor": 0
      },
      "text/plain": [
       "HBox(children=(IntProgress(value=0, max=5), HTML(value='')))"
      ]
     },
     "metadata": {},
     "output_type": "display_data"
    },
    {
     "name": "stdout",
     "output_type": "stream",
     "text": [
      "Accuracy: 0.69091\n"
     ]
    },
    {
     "data": {
      "application/vnd.jupyter.widget-view+json": {
       "model_id": "",
       "version_major": 2,
       "version_minor": 0
      },
      "text/plain": [
       "HBox(children=(IntProgress(value=0, max=5), HTML(value='')))"
      ]
     },
     "metadata": {},
     "output_type": "display_data"
    },
    {
     "name": "stdout",
     "output_type": "stream",
     "text": [
      "\n"
     ]
    }
   ],
   "source": [
    "local_strengths = [1, 3, 5, 7, 9]\n",
    "ratios_certifed = np.zeros((3, len(local_strengths)))\n",
    "\n",
    "for it, model in enumerate(tqdm.tqdm_notebook([ppnp_ce, ppnp_cem, ppnp_rce])):\n",
    "    \n",
    "    logits, weighted_logits = model(attr, ppr)\n",
    "    acc_test = accuracy(labels, weighted_logits, idx_test)\n",
    "    print(f'Accuracy: {acc_test:.5f}')\n",
    "    \n",
    "    logits = logits.detach().cpu().numpy()\n",
    "    predicted = weighted_logits.argmax(1).cpu().numpy()\n",
    "\n",
    "    for jt, local_strength in enumerate(tqdm.tqdm_notebook(local_strengths, leave=False)):\n",
    "        # set the local budget proportional to the node degree\n",
    "        local_budget = np.maximum(deg - 11 + local_strength, 0)\n",
    "\n",
    "        # precomputed the K x K perturbed graphs\n",
    "        k_squared_pageranks = k_squared_parallel(\n",
    "        adj=adj_matrix, alpha=alpha, fragile=fragile, local_budget=local_budget, logits=logits, nodes=idx_test)\n",
    "\n",
    "        # compute the exact worst-case margins for all test nodes\n",
    "        worst_margins = worst_margins_given_k_squared(\n",
    "            k_squared_pageranks=k_squared_pageranks, labels=predicted[idx_test], logits=logits)\n",
    "\n",
    "        ratios_certifed[it, jt] = (worst_margins>0).mean()"
   ]
  },
  {
   "cell_type": "markdown",
   "metadata": {},
   "source": [
    "### Compare different losses\n",
    "\n",
    "Note: Since GNNs are known to be senstive to choice of train/valid/test split a proper comparison should adverage of several different random splits."
   ]
  },
  {
   "cell_type": "code",
   "execution_count": 10,
   "metadata": {},
   "outputs": [
    {
     "data": {
      "image/png": "[encoded data removed]",
      "text/plain": [
       "<Figure size 432x288 with 1 Axes>"
      ]
     },
     "metadata": {
      "needs_background": "light"
     },
     "output_type": "display_data"
    }
   ],
   "source": [
    "sns.set_context('talk')\n",
    "plt.plot(local_strengths, ratios_certifed[0], label='ce')\n",
    "plt.plot(local_strengths, ratios_certifed[1], label='cem')\n",
    "plt.plot(local_strengths, ratios_certifed[2], label='rce')\n",
    "plt.xlabel('local attack strength')\n",
    "plt.ylabel('% certified robust')\n",
    "plt.legend(title='Loss')\n",
    "plt.show()"
   ]
  }
 ],
 "metadata": {
  "kernelspec": {
   "display_name": "Python 3",
   "language": "python",
   "name": "python3"
  },
  "language_info": {
   "codemirror_mode": {
    "name": "ipython",
    "version": 3
   },
   "file_extension": ".py",
   "mimetype": "text/x-python",
   "name": "python",
   "nbconvert_exporter": "python",
   "pygments_lexer": "ipython3",
   "version": "3.7.3"
  },
  "pycharm": {
   "stem_cell": {
    "cell_type": "raw",
    "metadata": {
     "collapsed": false
    },
    "source": []
   }
  }
 },
 "nbformat": 4,
 "nbformat_minor": 2
}
