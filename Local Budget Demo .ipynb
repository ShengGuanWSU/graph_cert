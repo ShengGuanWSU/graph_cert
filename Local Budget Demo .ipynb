{
 "cells": [
  {
   "cell_type": "code",
   "execution_count": 1,
   "metadata": {},
   "outputs": [],
   "source": [
    "import numpy as np\n",
    "import gust\n",
    "from graph_cert.certify import *\n",
    "from graph_cert.utils import *\n",
    "\n",
    "import seaborn as sns\n",
    "import matplotlib.pyplot as plt"
   ]
  },
  {
   "cell_type": "markdown",
   "metadata": {},
   "source": [
    "### Load and preprocess the data\n",
    "- Make the graph undirected\n",
    "- Selected the nodes belonging to the largest connected component"
   ]
  },
  {
   "cell_type": "code",
   "execution_count": 2,
   "metadata": {},
   "outputs": [],
   "source": [
    "file_name = 'data/cora.npz'\n",
    "graph = load_dataset(file_name=file_name)\n",
    "adj = graph['adj_matrix']\n",
    "labels = graph['labels'] \n",
    "adj, labels = standardize(adj_matrix=adj, labels=labels)"
   ]
  },
  {
   "cell_type": "markdown",
   "metadata": {},
   "source": [
    "### Load a pretrained $\\pi$-PPNP model"
   ]
  },
  {
   "cell_type": "code",
   "execution_count": 3,
   "metadata": {},
   "outputs": [],
   "source": [
    "loaded = np.load('cora_ml_pretrained_logits.npz')\n",
    "\n",
    "# pretrained logits (before diffusion)\n",
    "logits = loaded['logits']\n",
    "\n",
    "# indices of the nodes in the train/val/test split\n",
    "split_train = loaded['split_train']\n",
    "split_val = loaded['split_val']\n",
    "split_test = loaded['split_test']"
   ]
  },
  {
   "cell_type": "markdown",
   "metadata": {},
   "source": [
    "### Evaluate the performance on the clean graph"
   ]
  },
  {
   "cell_type": "code",
   "execution_count": 4,
   "metadata": {},
   "outputs": [
    {
     "name": "stdout",
     "output_type": "stream",
     "text": [
      "Clean Accuracy: 0.84\n"
     ]
    }
   ],
   "source": [
    "alpha = 0.85\n",
    "\n",
    "# PageRank Matrix of the clean graph\n",
    "ppr_clean = propagation_matrix(adj=adj, alpha=alpha)\n",
    "\n",
    "weighted_logits = ppr_clean @ logits\n",
    "predicted = weighted_logits.argmax(1)\n",
    "\n",
    "print('Clean Accuracy: {:.2f}'.format((labels[split_test] == predicted[split_test]).mean()))"
   ]
  },
  {
   "cell_type": "markdown",
   "metadata": {},
   "source": [
    "### Generate the set of fragile edges"
   ]
  },
  {
   "cell_type": "code",
   "execution_count": 5,
   "metadata": {},
   "outputs": [],
   "source": [
    "fragile = get_fragile(adj=adj, threat_model='rem')"
   ]
  },
  {
   "cell_type": "markdown",
   "metadata": {},
   "source": [
    "### Compute the (local budget) certificate for a single target node"
   ]
  },
  {
   "cell_type": "code",
   "execution_count": 6,
   "metadata": {},
   "outputs": [
    {
     "name": "stdout",
     "output_type": "stream",
     "text": [
      "Worst-case Margin for target node 0: 1.57, Certified: True\n"
     ]
    }
   ],
   "source": [
    "# set the local budget proportional to the degree\n",
    "deg = adj.sum(1).A1.astype(np.int32)\n",
    "local_budget = np.maximum(deg - 5, 0)\n",
    "\n",
    "target = split_test[0]\n",
    "true_class = predicted[target]\n",
    "# set the true_class to the predicted class for the target node\n",
    "\n",
    "worst_margin, opt_fragile= certify_single_node_local(\n",
    "    adj=adj, alpha=alpha, fragile=fragile, local_budget=local_budget, logits=logits,\n",
    "    true_class=true_class, target=target)\n",
    "\n",
    "print('Worst-case Margin for target node {}: {:.2f}, Certified: {}'.format(target, worst_margin, worst_margin>0))"
   ]
  },
  {
   "cell_type": "markdown",
   "metadata": {},
   "source": [
    "### Compute the (local budget) certificate for all (test) nodes\n",
    "Computes the worst margin and the optimal edges to perturb for all K x K pairs of classes, since we can recover the exact worst-case margins for all node via the PageRank matrix of the perturbed graphs. See section 4.3. in the paper for more details.\n",
    "\n",
    "Note that his is more efficient than calling `certify_single_node_local` n-many times and should be preferred."
   ]
  },
  {
   "cell_type": "code",
   "execution_count": 7,
   "metadata": {},
   "outputs": [
    {
     "name": "stdout",
     "output_type": "stream",
     "text": [
      "Ratio of certified test nodes: 0.62\n"
     ]
    }
   ],
   "source": [
    "# precomputed the K x K perturbed graphs\n",
    "k_squared_pageranks = k_squared_parallel(\n",
    "    adj=adj, alpha=alpha, fragile=fragile, local_budget=local_budget, logits=logits)\n",
    "\n",
    "# compute the exact worst-case margins for all test nodes\n",
    "worst_margins = worst_margins_given_k_squared(\n",
    "    k_squared_pageranks=k_squared_pageranks, labels=predicted, logits=logits)\n",
    "\n",
    "print('Ratio of certified test nodes: {:.2f}'.format((worst_margins[split_test]>0).mean()))"
   ]
  },
  {
   "cell_type": "markdown",
   "metadata": {},
   "source": [
    "### Plot the % certified robust test nodes as we increase the local attack stregth \n",
    "\n",
    "`local strength` $s$ corresponds to `local_budget` $b_i=\\max(d_i - 11 + s, 0)$ where $d_i$ is the degree of node $i$"
   ]
  },
  {
   "cell_type": "code",
   "execution_count": 8,
   "metadata": {},
   "outputs": [
    {
     "name": "stdout",
     "output_type": "stream",
     "text": [
      "1 0.7786561264822134\n",
      "3 0.7288537549407115\n",
      "5 0.6636363636363637\n",
      "7 0.574703557312253\n",
      "9 0.4727272727272727\n"
     ]
    }
   ],
   "source": [
    "local_strengths = [1, 3, 5, 7, 9]\n",
    "ratios_certifed = []\n",
    "\n",
    "for local_strength in local_strengths:\n",
    "    # set the local budget proportional to the node degree\n",
    "    local_budget = np.maximum(deg - 11 + local_strength, 0)\n",
    "    \n",
    "    # precomputed the K x K perturbed graphs\n",
    "    k_squared_pageranks = k_squared_parallel(\n",
    "    adj=adj, alpha=alpha, fragile=fragile, local_budget=local_budget, logits=logits)\n",
    "    \n",
    "    # compute the exact worst-case margins for all test nodes\n",
    "    worst_margins = worst_margins_given_k_squared(\n",
    "        k_squared_pageranks=k_squared_pageranks, labels=predicted, logits=logits)\n",
    "    \n",
    "    ratios_certifed.append((worst_margins[split_test]>0).mean())\n",
    "    print(local_strength, ratios_certifed[-1])"
   ]
  },
  {
   "cell_type": "code",
   "execution_count": 9,
   "metadata": {},
   "outputs": [
    {
     "data": {
      "text/plain": [
       "Text(0, 0.5, '% certified robust')"
      ]
     },
     "execution_count": 9,
     "metadata": {},
     "output_type": "execute_result"
    },
    {
     "data": {
      "image/png": "[encoded data removed]",
      "text/plain": [
       "<Figure size 432x288 with 1 Axes>"
      ]
     },
     "metadata": {
      "needs_background": "light"
     },
     "output_type": "display_data"
    }
   ],
   "source": [
    "sns.set_context('talk')\n",
    "sns.pointplot(local_strengths, ratios_certifed)\n",
    "plt.xlabel('local attack strength')\n",
    "plt.ylabel('% certified robust')"
   ]
  }
 ],
 "metadata": {
  "kernelspec": {
   "display_name": "Python 3",
   "language": "python",
   "name": "python3"
  },
  "language_info": {
   "codemirror_mode": {
    "name": "ipython",
    "version": 3
   },
   "file_extension": ".py",
   "mimetype": "text/x-python",
   "name": "python",
   "nbconvert_exporter": "python",
   "pygments_lexer": "ipython3",
   "version": "3.7.3"
  }
 },
 "nbformat": 4,
 "nbformat_minor": 2
}
